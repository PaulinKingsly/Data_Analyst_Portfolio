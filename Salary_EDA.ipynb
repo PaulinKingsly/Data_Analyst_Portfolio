{
 "cells": [
  {
   "cell_type": "code",
   "execution_count": 1,
   "id": "1f3f93f1",
   "metadata": {},
   "outputs": [],
   "source": [
    "### Импортируем необходимые библиотеки\n",
    "import pandas as pd\n",
    "import seaborn as sns\n",
    "import matplotlib.pyplot as plt\n",
    "import numpy as np"
   ]
  },
  {
   "cell_type": "code",
   "execution_count": 2,
   "id": "c6620ac2",
   "metadata": {},
   "outputs": [],
   "source": [
    "# Читаем файл и сохраняем его в data\n",
    "data = pd.read_csv('./Salary_Data.csv')"
   ]
  },
  {
   "cell_type": "code",
   "execution_count": 3,
   "id": "cfc2c7a3",
   "metadata": {},
   "outputs": [
    {
     "data": {
      "text/html": [
       "<div>\n",
       "<style scoped>\n",
       "    .dataframe tbody tr th:only-of-type {\n",
       "        vertical-align: middle;\n",
       "    }\n",
       "\n",
       "    .dataframe tbody tr th {\n",
       "        vertical-align: top;\n",
       "    }\n",
       "\n",
       "    .dataframe thead th {\n",
       "        text-align: right;\n",
       "    }\n",
       "</style>\n",
       "<table border=\"1\" class=\"dataframe\">\n",
       "  <thead>\n",
       "    <tr style=\"text-align: right;\">\n",
       "      <th></th>\n",
       "      <th>Age</th>\n",
       "      <th>Gender</th>\n",
       "      <th>Education Level</th>\n",
       "      <th>Job Title</th>\n",
       "      <th>Years of Experience</th>\n",
       "      <th>Salary</th>\n",
       "    </tr>\n",
       "  </thead>\n",
       "  <tbody>\n",
       "    <tr>\n",
       "      <th>0</th>\n",
       "      <td>32.0</td>\n",
       "      <td>Male</td>\n",
       "      <td>Bachelor's</td>\n",
       "      <td>Software Engineer</td>\n",
       "      <td>5.0</td>\n",
       "      <td>90000.0</td>\n",
       "    </tr>\n",
       "    <tr>\n",
       "      <th>1</th>\n",
       "      <td>28.0</td>\n",
       "      <td>Female</td>\n",
       "      <td>Master's</td>\n",
       "      <td>Data Analyst</td>\n",
       "      <td>3.0</td>\n",
       "      <td>65000.0</td>\n",
       "    </tr>\n",
       "    <tr>\n",
       "      <th>2</th>\n",
       "      <td>45.0</td>\n",
       "      <td>Male</td>\n",
       "      <td>PhD</td>\n",
       "      <td>Senior Manager</td>\n",
       "      <td>15.0</td>\n",
       "      <td>150000.0</td>\n",
       "    </tr>\n",
       "    <tr>\n",
       "      <th>3</th>\n",
       "      <td>36.0</td>\n",
       "      <td>Female</td>\n",
       "      <td>Bachelor's</td>\n",
       "      <td>Sales Associate</td>\n",
       "      <td>7.0</td>\n",
       "      <td>60000.0</td>\n",
       "    </tr>\n",
       "    <tr>\n",
       "      <th>4</th>\n",
       "      <td>52.0</td>\n",
       "      <td>Male</td>\n",
       "      <td>Master's</td>\n",
       "      <td>Director</td>\n",
       "      <td>20.0</td>\n",
       "      <td>200000.0</td>\n",
       "    </tr>\n",
       "  </tbody>\n",
       "</table>\n",
       "</div>"
      ],
      "text/plain": [
       "    Age  Gender Education Level          Job Title  Years of Experience  \\\n",
       "0  32.0    Male      Bachelor's  Software Engineer                  5.0   \n",
       "1  28.0  Female        Master's       Data Analyst                  3.0   \n",
       "2  45.0    Male             PhD     Senior Manager                 15.0   \n",
       "3  36.0  Female      Bachelor's    Sales Associate                  7.0   \n",
       "4  52.0    Male        Master's           Director                 20.0   \n",
       "\n",
       "     Salary  \n",
       "0   90000.0  \n",
       "1   65000.0  \n",
       "2  150000.0  \n",
       "3   60000.0  \n",
       "4  200000.0  "
      ]
     },
     "execution_count": 3,
     "metadata": {},
     "output_type": "execute_result"
    }
   ],
   "source": [
    "# Смотрим первые записи \n",
    "data.head(5)"
   ]
  },
  {
   "cell_type": "markdown",
   "id": "1d0a4096",
   "metadata": {},
   "source": [
    "# Предобработка данных"
   ]
  },
  {
   "cell_type": "code",
   "execution_count": 4,
   "id": "4d8a45d6",
   "metadata": {},
   "outputs": [
    {
     "name": "stdout",
     "output_type": "stream",
     "text": [
      "<class 'pandas.core.frame.DataFrame'>\n",
      "RangeIndex: 6704 entries, 0 to 6703\n",
      "Data columns (total 6 columns):\n",
      " #   Column               Non-Null Count  Dtype  \n",
      "---  ------               --------------  -----  \n",
      " 0   Age                  6702 non-null   float64\n",
      " 1   Gender               6702 non-null   object \n",
      " 2   Education Level      6701 non-null   object \n",
      " 3   Job Title            6702 non-null   object \n",
      " 4   Years of Experience  6701 non-null   float64\n",
      " 5   Salary               6699 non-null   float64\n",
      "dtypes: float64(3), object(3)\n",
      "memory usage: 314.4+ KB\n"
     ]
    }
   ],
   "source": [
    "data.info()"
   ]
  },
  {
   "cell_type": "code",
   "execution_count": 5,
   "id": "0b128b12",
   "metadata": {},
   "outputs": [
    {
     "data": {
      "text/plain": [
       "Index(['Age', 'Gender', 'Education Level', 'Job Title', 'Years of Experience',\n",
       "       'Salary'],\n",
       "      dtype='object')"
      ]
     },
     "execution_count": 5,
     "metadata": {},
     "output_type": "execute_result"
    }
   ],
   "source": [
    "data.columns # Всего 6 колонок"
   ]
  },
  {
   "cell_type": "markdown",
   "id": "5e531814",
   "metadata": {},
   "source": [
    "#### Посмотрим, какие есть уровни образования"
   ]
  },
  {
   "cell_type": "code",
   "execution_count": 6,
   "id": "dfd60cd6",
   "metadata": {},
   "outputs": [
    {
     "data": {
      "text/plain": [
       "array([\"Bachelor's\", \"Master's\", 'PhD', nan, \"Bachelor's Degree\",\n",
       "       \"Master's Degree\", 'High School', 'phD'], dtype=object)"
      ]
     },
     "execution_count": 6,
     "metadata": {},
     "output_type": "execute_result"
    }
   ],
   "source": [
    "data['Education Level'].unique()"
   ]
  },
  {
   "cell_type": "markdown",
   "id": "a419e38b",
   "metadata": {},
   "source": [
    "#### Bachelor's и Bachelor's Degree, PhD и phD, Master's и Master's Degree  \n",
    "#### - одинаковые уровни образования, поменяем их названия"
   ]
  },
  {
   "cell_type": "code",
   "execution_count": 7,
   "id": "783ecf2c",
   "metadata": {},
   "outputs": [],
   "source": [
    "replace_education_level = {\n",
    "    \"Bachelor's\": \"Bachelor\",\n",
    "    \"Bachelor's Degree\" : \"Bachelor\",\n",
    "    \"Master's\" : \"Master\",\n",
    "    \"Master's Degree\" : \"Master\",\n",
    "    \"phD\": \"PhD\"}"
   ]
  },
  {
   "cell_type": "code",
   "execution_count": 8,
   "id": "b73764ad",
   "metadata": {},
   "outputs": [],
   "source": [
    "data['Education Level']= data['Education Level'].replace(replace_education_level)"
   ]
  },
  {
   "cell_type": "code",
   "execution_count": 9,
   "id": "4406ee53",
   "metadata": {},
   "outputs": [
    {
     "data": {
      "text/plain": [
       "array(['Bachelor', 'Master', 'PhD', nan, 'High School'], dtype=object)"
      ]
     },
     "execution_count": 9,
     "metadata": {},
     "output_type": "execute_result"
    }
   ],
   "source": [
    "data['Education Level'].unique()"
   ]
  },
  {
   "cell_type": "markdown",
   "id": "adf97154",
   "metadata": {},
   "source": [
    "### Проверим, есть ли пропуски в данных"
   ]
  },
  {
   "cell_type": "code",
   "execution_count": 10,
   "id": "fd96d1b3",
   "metadata": {},
   "outputs": [
    {
     "data": {
      "text/plain": [
       "Age                    2\n",
       "Gender                 2\n",
       "Education Level        3\n",
       "Job Title              2\n",
       "Years of Experience    3\n",
       "Salary                 5\n",
       "dtype: int64"
      ]
     },
     "execution_count": 10,
     "metadata": {},
     "output_type": "execute_result"
    }
   ],
   "source": [
    "data.isnull().sum()"
   ]
  },
  {
   "cell_type": "markdown",
   "id": "9f183104",
   "metadata": {},
   "source": [
    "#### Удаляем записи со значениями NULL в Salary, Education Level, т.к. мы не можем использовать записи с неопределенной зарплатой и образованием для анализа"
   ]
  },
  {
   "cell_type": "code",
   "execution_count": 11,
   "id": "bd8abe56",
   "metadata": {},
   "outputs": [],
   "source": [
    "data.dropna(subset=['Salary'], inplace=True)"
   ]
  },
  {
   "cell_type": "code",
   "execution_count": 12,
   "id": "90d19c13",
   "metadata": {},
   "outputs": [],
   "source": [
    "data.dropna(subset=['Education Level'], inplace=True)"
   ]
  },
  {
   "cell_type": "code",
   "execution_count": 13,
   "id": "987f2548",
   "metadata": {},
   "outputs": [
    {
     "data": {
      "text/plain": [
       "Age                    0\n",
       "Gender                 0\n",
       "Education Level        0\n",
       "Job Title              0\n",
       "Years of Experience    0\n",
       "Salary                 0\n",
       "dtype: int64"
      ]
     },
     "execution_count": 13,
     "metadata": {},
     "output_type": "execute_result"
    }
   ],
   "source": [
    "data.isnull().sum() "
   ]
  },
  {
   "cell_type": "markdown",
   "id": "688aec54",
   "metadata": {},
   "source": [
    "#### Посмотрим, какие есть гендеры"
   ]
  },
  {
   "cell_type": "code",
   "execution_count": 14,
   "id": "8d472e3e",
   "metadata": {},
   "outputs": [
    {
     "data": {
      "text/plain": [
       "array(['Male', 'Female', 'Other'], dtype=object)"
      ]
     },
     "execution_count": 14,
     "metadata": {},
     "output_type": "execute_result"
    }
   ],
   "source": [
    "data['Gender'].unique()"
   ]
  },
  {
   "cell_type": "markdown",
   "id": "fb118b32",
   "metadata": {},
   "source": [
    "#### Удалим записи с гендером other"
   ]
  },
  {
   "cell_type": "code",
   "execution_count": 15,
   "id": "37a93883",
   "metadata": {},
   "outputs": [],
   "source": [
    "data.drop(data[data['Gender'] =='Other'].index, inplace=True)"
   ]
  },
  {
   "cell_type": "code",
   "execution_count": 16,
   "id": "fa8c0c44",
   "metadata": {},
   "outputs": [
    {
     "data": {
      "text/plain": [
       "array(['Male', 'Female'], dtype=object)"
      ]
     },
     "execution_count": 16,
     "metadata": {},
     "output_type": "execute_result"
    }
   ],
   "source": [
    "data['Gender'].unique()"
   ]
  },
  {
   "cell_type": "markdown",
   "id": "7782c07c",
   "metadata": {},
   "source": [
    "### Проверяем и меняем типы данных"
   ]
  },
  {
   "cell_type": "code",
   "execution_count": 17,
   "id": "2598941e",
   "metadata": {},
   "outputs": [
    {
     "data": {
      "text/plain": [
       "Age                    float64\n",
       "Gender                  object\n",
       "Education Level         object\n",
       "Job Title               object\n",
       "Years of Experience    float64\n",
       "Salary                 float64\n",
       "dtype: object"
      ]
     },
     "execution_count": 17,
     "metadata": {},
     "output_type": "execute_result"
    }
   ],
   "source": [
    "data.dtypes"
   ]
  },
  {
   "cell_type": "code",
   "execution_count": 18,
   "id": "6ac2347c",
   "metadata": {},
   "outputs": [],
   "source": [
    "# Поменяем тип данных Age с float64 на int\n",
    "\n",
    "data['Age'] = data['Age'].replace([np.inf, -np.inf], np.nan)\n",
    "\n",
    "# Преобразуем столбец Age в числовой формат\n",
    "data['Age'] = pd.to_numeric(data['Age'], errors='coerce')\n",
    "\n",
    "# Теперь преобразуем в int\n",
    "data['Age'] = data['Age'].astype(int)"
   ]
  },
  {
   "cell_type": "markdown",
   "id": "6e96c644",
   "metadata": {},
   "source": [
    "### Проверяем наличие дубликатов"
   ]
  },
  {
   "cell_type": "code",
   "execution_count": 19,
   "id": "7696b29f",
   "metadata": {},
   "outputs": [
    {
     "data": {
      "text/plain": [
       "4905"
      ]
     },
     "execution_count": 19,
     "metadata": {},
     "output_type": "execute_result"
    }
   ],
   "source": [
    "data.duplicated().sum()"
   ]
  },
  {
   "cell_type": "markdown",
   "id": "1045ff61",
   "metadata": {},
   "source": [
    "#### В data нет столбца, который идентифицирует человека. Поэтому дубликаты мы не трогаем, т.к. это могут быть просто люди с одинаковым именем и образованием"
   ]
  },
  {
   "cell_type": "markdown",
   "id": "f7393854",
   "metadata": {},
   "source": [
    "# Исследовательский анализ"
   ]
  },
  {
   "cell_type": "code",
   "execution_count": 20,
   "id": "d319eec5",
   "metadata": {},
   "outputs": [
    {
     "data": {
      "text/html": [
       "<div>\n",
       "<style scoped>\n",
       "    .dataframe tbody tr th:only-of-type {\n",
       "        vertical-align: middle;\n",
       "    }\n",
       "\n",
       "    .dataframe tbody tr th {\n",
       "        vertical-align: top;\n",
       "    }\n",
       "\n",
       "    .dataframe thead th {\n",
       "        text-align: right;\n",
       "    }\n",
       "</style>\n",
       "<table border=\"1\" class=\"dataframe\">\n",
       "  <thead>\n",
       "    <tr style=\"text-align: right;\">\n",
       "      <th></th>\n",
       "      <th>Age</th>\n",
       "      <th>Years of Experience</th>\n",
       "      <th>Salary</th>\n",
       "    </tr>\n",
       "  </thead>\n",
       "  <tbody>\n",
       "    <tr>\n",
       "      <th>count</th>\n",
       "      <td>6684.0</td>\n",
       "      <td>6684.0</td>\n",
       "      <td>6684.0</td>\n",
       "    </tr>\n",
       "    <tr>\n",
       "      <th>mean</th>\n",
       "      <td>34.0</td>\n",
       "      <td>8.0</td>\n",
       "      <td>115307.0</td>\n",
       "    </tr>\n",
       "    <tr>\n",
       "      <th>std</th>\n",
       "      <td>8.0</td>\n",
       "      <td>6.0</td>\n",
       "      <td>52807.0</td>\n",
       "    </tr>\n",
       "    <tr>\n",
       "      <th>min</th>\n",
       "      <td>21.0</td>\n",
       "      <td>0.0</td>\n",
       "      <td>350.0</td>\n",
       "    </tr>\n",
       "    <tr>\n",
       "      <th>25%</th>\n",
       "      <td>28.0</td>\n",
       "      <td>3.0</td>\n",
       "      <td>70000.0</td>\n",
       "    </tr>\n",
       "    <tr>\n",
       "      <th>50%</th>\n",
       "      <td>32.0</td>\n",
       "      <td>7.0</td>\n",
       "      <td>115000.0</td>\n",
       "    </tr>\n",
       "    <tr>\n",
       "      <th>75%</th>\n",
       "      <td>38.0</td>\n",
       "      <td>12.0</td>\n",
       "      <td>160000.0</td>\n",
       "    </tr>\n",
       "    <tr>\n",
       "      <th>max</th>\n",
       "      <td>62.0</td>\n",
       "      <td>34.0</td>\n",
       "      <td>250000.0</td>\n",
       "    </tr>\n",
       "  </tbody>\n",
       "</table>\n",
       "</div>"
      ],
      "text/plain": [
       "          Age  Years of Experience    Salary\n",
       "count  6684.0               6684.0    6684.0\n",
       "mean     34.0                  8.0  115307.0\n",
       "std       8.0                  6.0   52807.0\n",
       "min      21.0                  0.0     350.0\n",
       "25%      28.0                  3.0   70000.0\n",
       "50%      32.0                  7.0  115000.0\n",
       "75%      38.0                 12.0  160000.0\n",
       "max      62.0                 34.0  250000.0"
      ]
     },
     "execution_count": 20,
     "metadata": {},
     "output_type": "execute_result"
    }
   ],
   "source": [
    "# Посмотрим основную статистику\n",
    "data.describe().round()"
   ]
  },
  {
   "cell_type": "markdown",
   "id": "691bdf13",
   "metadata": {},
   "source": [
    "### Средняя зарплата для мужчин и женщин"
   ]
  },
  {
   "cell_type": "code",
   "execution_count": 21,
   "id": "c266ed35",
   "metadata": {},
   "outputs": [],
   "source": [
    "data_gr_gender = data.groupby('Gender')['Salary'].describe()"
   ]
  },
  {
   "cell_type": "code",
   "execution_count": 22,
   "id": "2ec4ffb3",
   "metadata": {},
   "outputs": [
    {
     "data": {
      "image/png": "[encoded data removed]",
      "text/plain": [
       "<Figure size 400x300 with 1 Axes>"
      ]
     },
     "metadata": {},
     "output_type": "display_data"
    }
   ],
   "source": [
    "plt.figure(figsize=(4, 3))\n",
    "sns.barplot(x=data_gr_gender.index, y=data_gr_gender['mean'])\n",
    "plt.title('Mean Salary by Gender')\n",
    "plt.xlabel('Gender')\n",
    "plt.ylabel('Mean Salary')\n",
    "plt.show()\n",
    "\n",
    "### В среднем у мужчин зарплата больше, чем у женщин"
   ]
  },
  {
   "cell_type": "markdown",
   "id": "ab21deb7",
   "metadata": {},
   "source": [
    "### Средняя  зарплата по уровням образования"
   ]
  },
  {
   "cell_type": "code",
   "execution_count": 23,
   "id": "c5f57e08",
   "metadata": {},
   "outputs": [],
   "source": [
    "data_gr_salary = data.groupby('Education Level')['Salary'].describe()\n",
    "data_gr_salary_sorted = data_gr_salary.sort_values(by='mean')"
   ]
  },
  {
   "cell_type": "code",
   "execution_count": 24,
   "id": "3977dd0b",
   "metadata": {},
   "outputs": [
    {
     "data": {
      "image/png": "[encoded data removed]",
      "text/plain": [
       "<Figure size 400x300 with 1 Axes>"
      ]
     },
     "metadata": {},
     "output_type": "display_data"
    }
   ],
   "source": [
    "plt.figure(figsize=(4, 3))\n",
    "sns.barplot(x=data_gr_salary_sorted.index, y=data_gr_salary_sorted['mean'])\n",
    "plt.title('Mean Salary by Education')\n",
    "plt.xlabel('Education')\n",
    "plt.ylabel('Mean Salary')\n",
    "plt.show()\n",
    "\n",
    "### Чем выше образование, тем больше зарплата"
   ]
  },
  {
   "cell_type": "markdown",
   "id": "cba948a4",
   "metadata": {},
   "source": [
    "### Построим боксплот и посмотрим, сколько в среднем зарабатывают люди с разным уровнем образования, и есть ли среди них исключения"
   ]
  },
  {
   "cell_type": "code",
   "execution_count": 25,
   "id": "ef78e18b",
   "metadata": {},
   "outputs": [
    {
     "data": {
      "image/png": "[encoded data removed]",
      "text/plain": [
       "<Figure size 640x480 with 1 Axes>"
      ]
     },
     "metadata": {},
     "output_type": "display_data"
    }
   ],
   "source": [
    "sns.boxplot(data=data, x='Salary', y='Education Level')\n",
    "plt.show()\n",
    "\n",
    "### Опять видим, что зарплата зависит от образования,\n",
    "### но есть люди, которые, не  имея ученой степени зарабатывают столько же, сколько люди с PhD, \n",
    "### и люди с PhD, которые зарабатывают, как люди без высшего образования. Больше всего исключений среди выпускников школы"
   ]
  },
  {
   "cell_type": "markdown",
   "id": "e2b6677e",
   "metadata": {},
   "source": [
    "### Зависит ли зарплата от пола при одинаковом уровне обазования"
   ]
  },
  {
   "cell_type": "code",
   "execution_count": 26,
   "id": "1cd18cc5",
   "metadata": {},
   "outputs": [],
   "source": [
    "data_gr_salary_gen = data.groupby(['Education Level', 'Gender'])['Salary'].mean()"
   ]
  },
  {
   "cell_type": "code",
   "execution_count": 27,
   "id": "de17a182",
   "metadata": {},
   "outputs": [
    {
     "data": {
      "image/png": "[encoded data removed]",
      "text/plain": [
       "<Figure size 640x480 with 1 Axes>"
      ]
     },
     "metadata": {},
     "output_type": "display_data"
    }
   ],
   "source": [
    "sns.barplot(x='Education Level', y='Salary', hue='Gender', data=data)\n",
    "plt.title('Mean Salary by Education Level and Gender')\n",
    "plt.xlabel('Education Level')\n",
    "plt.ylabel('Mean Salary')\n",
    "plt.show()\n",
    "\n",
    "### У женщин с таким же уровнем образования, как у мужчин, зарплаты ниже"
   ]
  },
  {
   "cell_type": "markdown",
   "id": "07501634",
   "metadata": {},
   "source": [
    "### Зависит ли зарплата от опыта работы"
   ]
  },
  {
   "cell_type": "code",
   "execution_count": 28,
   "id": "db9a183f",
   "metadata": {},
   "outputs": [],
   "source": [
    "data_gr_exper = data.groupby(['Years of Experience'])['Salary'].describe()"
   ]
  },
  {
   "cell_type": "code",
   "execution_count": 29,
   "id": "f9631c4b",
   "metadata": {},
   "outputs": [
    {
     "data": {
      "image/png": "[encoded data removed]",
      "text/plain": [
       "<Figure size 800x600 with 1 Axes>"
      ]
     },
     "metadata": {},
     "output_type": "display_data"
    }
   ],
   "source": [
    "plt.figure(figsize=(8, 6))\n",
    "sns.scatterplot(x='Years of Experience', y='Salary', data=data)\n",
    "plt.title('Salary vs Years of Experience')\n",
    "plt.show()\n",
    "\n",
    "### Чем больше опыт работы, тем больше зарплата"
   ]
  },
  {
   "cell_type": "markdown",
   "id": "6b81f4cd",
   "metadata": {},
   "source": [
    "### Средний опыт работы для мужчин и женщин"
   ]
  },
  {
   "cell_type": "code",
   "execution_count": 30,
   "id": "e458253b",
   "metadata": {},
   "outputs": [
    {
     "data": {
      "text/html": [
       "<div>\n",
       "<style scoped>\n",
       "    .dataframe tbody tr th:only-of-type {\n",
       "        vertical-align: middle;\n",
       "    }\n",
       "\n",
       "    .dataframe tbody tr th {\n",
       "        vertical-align: top;\n",
       "    }\n",
       "\n",
       "    .dataframe thead th {\n",
       "        text-align: right;\n",
       "    }\n",
       "</style>\n",
       "<table border=\"1\" class=\"dataframe\">\n",
       "  <thead>\n",
       "    <tr style=\"text-align: right;\">\n",
       "      <th></th>\n",
       "      <th>count</th>\n",
       "      <th>mean</th>\n",
       "      <th>std</th>\n",
       "      <th>min</th>\n",
       "      <th>25%</th>\n",
       "      <th>50%</th>\n",
       "      <th>75%</th>\n",
       "      <th>max</th>\n",
       "    </tr>\n",
       "    <tr>\n",
       "      <th>Gender</th>\n",
       "      <th></th>\n",
       "      <th></th>\n",
       "      <th></th>\n",
       "      <th></th>\n",
       "      <th></th>\n",
       "      <th></th>\n",
       "      <th></th>\n",
       "      <th></th>\n",
       "    </tr>\n",
       "  </thead>\n",
       "  <tbody>\n",
       "    <tr>\n",
       "      <th>Female</th>\n",
       "      <td>3013.0</td>\n",
       "      <td>7.0</td>\n",
       "      <td>6.0</td>\n",
       "      <td>0.0</td>\n",
       "      <td>3.0</td>\n",
       "      <td>6.0</td>\n",
       "      <td>11.0</td>\n",
       "      <td>34.0</td>\n",
       "    </tr>\n",
       "    <tr>\n",
       "      <th>Male</th>\n",
       "      <td>3671.0</td>\n",
       "      <td>9.0</td>\n",
       "      <td>6.0</td>\n",
       "      <td>0.0</td>\n",
       "      <td>3.0</td>\n",
       "      <td>8.0</td>\n",
       "      <td>13.0</td>\n",
       "      <td>32.0</td>\n",
       "    </tr>\n",
       "  </tbody>\n",
       "</table>\n",
       "</div>"
      ],
      "text/plain": [
       "         count  mean  std  min  25%  50%   75%   max\n",
       "Gender                                              \n",
       "Female  3013.0   7.0  6.0  0.0  3.0  6.0  11.0  34.0\n",
       "Male    3671.0   9.0  6.0  0.0  3.0  8.0  13.0  32.0"
      ]
     },
     "execution_count": 30,
     "metadata": {},
     "output_type": "execute_result"
    }
   ],
   "source": [
    "data.groupby('Gender')['Years of Experience'].describe().round()"
   ]
  },
  {
   "cell_type": "markdown",
   "id": "a42731d4",
   "metadata": {},
   "source": [
    "### Опыт работы у женщин в среднем на 2 года меньше, чем у жужчин"
   ]
  },
  {
   "cell_type": "markdown",
   "id": "6b939da1",
   "metadata": {},
   "source": [
    "# Выводы:\n",
    "## 1) Чем выше уровень образования, тем больше зарплата ? - В большинстве случаев это верно, но есть люди без высшего образования, которые зарабатывают больше людей с PhD.\n",
    "## 2) Зарплата зависит от пола? - В среднем женщины зарабатывают меньше мужчин (при одинаковом образовании).\n",
    "## 3) Зарплата зависит от опыта работы? - Да, определенно зависит.\n"
   ]
  },
  {
   "cell_type": "markdown",
   "id": "25340f09",
   "metadata": {},
   "source": [
    "### Обратим внимание на то, что женщин 3013, а мужчин 3671. Неравное количесвто записей для двух категорий могут влиять на анализ"
   ]
  }
 ],
 "metadata": {
  "kernelspec": {
   "display_name": "Python 3 (ipykernel)",
   "language": "python",
   "name": "python3"
  },
  "language_info": {
   "codemirror_mode": {
    "name": "ipython",
    "version": 3
   },
   "file_extension": ".py",
   "mimetype": "text/x-python",
   "name": "python",
   "nbconvert_exporter": "python",
   "pygments_lexer": "ipython3",
   "version": "3.11.5"
  }
 },
 "nbformat": 4,
 "nbformat_minor": 5
}
