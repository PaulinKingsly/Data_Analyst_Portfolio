{
 "cells": [
  {
   "cell_type": "markdown",
   "id": "c3caef17",
   "metadata": {},
   "source": [
    "# Задание 1"
   ]
  },
  {
   "cell_type": "markdown",
   "id": "a1de93dd",
   "metadata": {},
   "source": [
    "<br>\n",
    "Есть таблица с действиями юзеров A/B-теста (<i>task_1_events.csv</i>):"
   ]
  },
  {
   "cell_type": "markdown",
   "id": "b0c783d4",
   "metadata": {},
   "source": [
    "- $events$ - установки приложения\n",
    "    - $user\\_id$ - id юзера,\n",
    "    - $ab\\_group$ - группа A/B-теста,\n",
    "    - $ts$ - время совершения действия,\n",
    "    - $pdate$ - дата совершения действия."
   ]
  },
  {
   "cell_type": "markdown",
   "id": "ce9f94f3",
   "metadata": {},
   "source": [
    "Пользовательская сессия определяется по следующим правилам:\n",
    "<br>\n",
    "1. Новая сессия начинается после 30 минут бездействия.\n",
    "<br>\n",
    "2. Сессия прерывается при переходе между двумя датами."
   ]
  },
  {
   "cell_type": "markdown",
   "id": "44cd98bf",
   "metadata": {},
   "source": [
    "<b>Постройте таблицу с сессиями юзеров в формате<b>:\n",
    "<br>\n",
    "- $user\\_id$ - id юзера\n",
    "- $ab\\_group$ - группа A/B-теста,\n",
    "- $start\\_ts$ - время старта сессии,\n",
    "- $end\\_ts$ - время окончания сессии,\n",
    "- $pdate$ - дата сессии."
   ]
  },
  {
   "cell_type": "markdown",
   "id": "b364657f",
   "metadata": {},
   "source": [
    "# Задание 2"
   ]
  },
  {
   "cell_type": "markdown",
   "id": "5f6e75be",
   "metadata": {},
   "source": [
    "Был проведен A/B-тест.\n",
    "<br>\n",
    "В качестве данных используйте таблицу, построенную в предыдущем задании. Первая сессия юзера считается моментом попадания в A/B-тест.\n",
    "<br><br>\n",
    "Ключевая метрика эксперимента - конверсия во вторую сессию.\n",
    "<br>\n",
    "Сделайте вывод о том, какая группа выиграла в A/B-тесте. Ответ обоснуйте.\n",
    "<br>"
   ]
  },
  {
   "cell_type": "markdown",
   "id": "bc3625db",
   "metadata": {},
   "source": [
    "# Этап 1. Получение данных"
   ]
  },
  {
   "cell_type": "code",
   "execution_count": 48,
   "id": "90e41d68",
   "metadata": {},
   "outputs": [],
   "source": [
    "# Импортируем необходимые библиотеки \n",
    "import pandas as pd\n",
    "import numpy as np"
   ]
  },
  {
   "cell_type": "code",
   "execution_count": 49,
   "id": "8d292b21",
   "metadata": {},
   "outputs": [],
   "source": [
    "# Читаем файл и сохраняем его в df\n",
    "df = pd.read_csv('./task_1_events.csv')"
   ]
  },
  {
   "cell_type": "code",
   "execution_count": 50,
   "id": "540a587e",
   "metadata": {},
   "outputs": [
    {
     "data": {
      "text/html": [
       "<div>\n",
       "<style scoped>\n",
       "    .dataframe tbody tr th:only-of-type {\n",
       "        vertical-align: middle;\n",
       "    }\n",
       "\n",
       "    .dataframe tbody tr th {\n",
       "        vertical-align: top;\n",
       "    }\n",
       "\n",
       "    .dataframe thead th {\n",
       "        text-align: right;\n",
       "    }\n",
       "</style>\n",
       "<table border=\"1\" class=\"dataframe\">\n",
       "  <thead>\n",
       "    <tr style=\"text-align: right;\">\n",
       "      <th></th>\n",
       "      <th>user_id</th>\n",
       "      <th>ab_group</th>\n",
       "      <th>ts</th>\n",
       "      <th>pdate</th>\n",
       "    </tr>\n",
       "  </thead>\n",
       "  <tbody>\n",
       "    <tr>\n",
       "      <th>0</th>\n",
       "      <td>2OgK/ukRgvkWAOaa8XaTPg==</td>\n",
       "      <td>A</td>\n",
       "      <td>2023-05-02 12:24:33.553327</td>\n",
       "      <td>2023-05-02</td>\n",
       "    </tr>\n",
       "    <tr>\n",
       "      <th>1</th>\n",
       "      <td>2OgK/ukRgvkWAOaa8XaTPg==</td>\n",
       "      <td>A</td>\n",
       "      <td>2023-05-02 12:32:23.215284</td>\n",
       "      <td>2023-05-02</td>\n",
       "    </tr>\n",
       "    <tr>\n",
       "      <th>2</th>\n",
       "      <td>2OgK/ukRgvkWAOaa8XaTPg==</td>\n",
       "      <td>A</td>\n",
       "      <td>2023-05-02 12:33:01.050395</td>\n",
       "      <td>2023-05-02</td>\n",
       "    </tr>\n",
       "    <tr>\n",
       "      <th>3</th>\n",
       "      <td>2OgK/ukRgvkWAOaa8XaTPg==</td>\n",
       "      <td>A</td>\n",
       "      <td>2023-05-02 12:36:18.233874</td>\n",
       "      <td>2023-05-02</td>\n",
       "    </tr>\n",
       "    <tr>\n",
       "      <th>4</th>\n",
       "      <td>2OgK/ukRgvkWAOaa8XaTPg==</td>\n",
       "      <td>A</td>\n",
       "      <td>2023-05-02 12:36:45.210274</td>\n",
       "      <td>2023-05-02</td>\n",
       "    </tr>\n",
       "    <tr>\n",
       "      <th>5</th>\n",
       "      <td>2OgK/ukRgvkWAOaa8XaTPg==</td>\n",
       "      <td>A</td>\n",
       "      <td>2023-05-02 12:36:54.251438</td>\n",
       "      <td>2023-05-02</td>\n",
       "    </tr>\n",
       "    <tr>\n",
       "      <th>6</th>\n",
       "      <td>2OgK/ukRgvkWAOaa8XaTPg==</td>\n",
       "      <td>A</td>\n",
       "      <td>2023-05-02 12:37:39.181624</td>\n",
       "      <td>2023-05-02</td>\n",
       "    </tr>\n",
       "    <tr>\n",
       "      <th>7</th>\n",
       "      <td>2OgK/ukRgvkWAOaa8XaTPg==</td>\n",
       "      <td>A</td>\n",
       "      <td>2023-05-02 12:37:57.761142</td>\n",
       "      <td>2023-05-02</td>\n",
       "    </tr>\n",
       "    <tr>\n",
       "      <th>8</th>\n",
       "      <td>3E69ZO0RJrEWACi28XaTPg==</td>\n",
       "      <td>A</td>\n",
       "      <td>2023-05-01 18:58:45.338597</td>\n",
       "      <td>2023-05-01</td>\n",
       "    </tr>\n",
       "    <tr>\n",
       "      <th>9</th>\n",
       "      <td>3E69ZO0RJrEWACi28XaTPg==</td>\n",
       "      <td>A</td>\n",
       "      <td>2023-05-01 19:01:05.548678</td>\n",
       "      <td>2023-05-01</td>\n",
       "    </tr>\n",
       "  </tbody>\n",
       "</table>\n",
       "</div>"
      ],
      "text/plain": [
       "                    user_id ab_group                          ts       pdate\n",
       "0  2OgK/ukRgvkWAOaa8XaTPg==        A  2023-05-02 12:24:33.553327  2023-05-02\n",
       "1  2OgK/ukRgvkWAOaa8XaTPg==        A  2023-05-02 12:32:23.215284  2023-05-02\n",
       "2  2OgK/ukRgvkWAOaa8XaTPg==        A  2023-05-02 12:33:01.050395  2023-05-02\n",
       "3  2OgK/ukRgvkWAOaa8XaTPg==        A  2023-05-02 12:36:18.233874  2023-05-02\n",
       "4  2OgK/ukRgvkWAOaa8XaTPg==        A  2023-05-02 12:36:45.210274  2023-05-02\n",
       "5  2OgK/ukRgvkWAOaa8XaTPg==        A  2023-05-02 12:36:54.251438  2023-05-02\n",
       "6  2OgK/ukRgvkWAOaa8XaTPg==        A  2023-05-02 12:37:39.181624  2023-05-02\n",
       "7  2OgK/ukRgvkWAOaa8XaTPg==        A  2023-05-02 12:37:57.761142  2023-05-02\n",
       "8  3E69ZO0RJrEWACi28XaTPg==        A  2023-05-01 18:58:45.338597  2023-05-01\n",
       "9  3E69ZO0RJrEWACi28XaTPg==        A  2023-05-01 19:01:05.548678  2023-05-01"
      ]
     },
     "execution_count": 50,
     "metadata": {},
     "output_type": "execute_result"
    }
   ],
   "source": [
    "# Смотрим первые 10 записей\n",
    "df.head(10)"
   ]
  },
  {
   "cell_type": "markdown",
   "id": "8c2e761d",
   "metadata": {},
   "source": [
    "### Общая информация о данных"
   ]
  },
  {
   "cell_type": "code",
   "execution_count": 51,
   "id": "02393835",
   "metadata": {},
   "outputs": [
    {
     "name": "stdout",
     "output_type": "stream",
     "text": [
      "<class 'pandas.core.frame.DataFrame'>\n",
      "RangeIndex: 44568 entries, 0 to 44567\n",
      "Data columns (total 4 columns):\n",
      " #   Column    Non-Null Count  Dtype \n",
      "---  ------    --------------  ----- \n",
      " 0   user_id   44568 non-null  object\n",
      " 1   ab_group  44568 non-null  object\n",
      " 2   ts        44568 non-null  object\n",
      " 3   pdate     44568 non-null  object\n",
      "dtypes: object(4)\n",
      "memory usage: 1.4+ MB\n"
     ]
    }
   ],
   "source": [
    "df.info()"
   ]
  },
  {
   "cell_type": "markdown",
   "id": "01fc6f11",
   "metadata": {},
   "source": [
    "#### Всего 4 колонки. Тип данных у всех object"
   ]
  },
  {
   "cell_type": "markdown",
   "id": "5228e112",
   "metadata": {},
   "source": [
    "# Этап 2. Предобработка данных"
   ]
  },
  {
   "cell_type": "markdown",
   "id": "e859025f",
   "metadata": {},
   "source": [
    "#### Проверим, есть ли пропуски в данных"
   ]
  },
  {
   "cell_type": "code",
   "execution_count": 52,
   "id": "918a9bb5",
   "metadata": {},
   "outputs": [
    {
     "data": {
      "text/plain": [
       "user_id     0\n",
       "ab_group    0\n",
       "ts          0\n",
       "pdate       0\n",
       "dtype: int64"
      ]
     },
     "execution_count": 52,
     "metadata": {},
     "output_type": "execute_result"
    }
   ],
   "source": [
    "df.isnull().sum() ### Пропусков нет"
   ]
  },
  {
   "cell_type": "markdown",
   "id": "a2df6aaa",
   "metadata": {},
   "source": [
    "#### Поменяем типы данных pdate и ts с object на date"
   ]
  },
  {
   "cell_type": "code",
   "execution_count": 53,
   "id": "569f8ac8",
   "metadata": {},
   "outputs": [],
   "source": [
    "df['pdate'] = pd.to_datetime(df['pdate'])"
   ]
  },
  {
   "cell_type": "code",
   "execution_count": 54,
   "id": "7cefb271",
   "metadata": {},
   "outputs": [],
   "source": [
    "df['ts'] = pd.to_datetime(df['ts'], format='%Y-%m-%d %H:%M:%S.%f')"
   ]
  },
  {
   "cell_type": "code",
   "execution_count": 55,
   "id": "0d3552e3",
   "metadata": {},
   "outputs": [
    {
     "data": {
      "text/plain": [
       "user_id             object\n",
       "ab_group            object\n",
       "ts          datetime64[ns]\n",
       "pdate       datetime64[ns]\n",
       "dtype: object"
      ]
     },
     "execution_count": 55,
     "metadata": {},
     "output_type": "execute_result"
    }
   ],
   "source": [
    "df.dtypes"
   ]
  },
  {
   "cell_type": "markdown",
   "id": "16e213b2",
   "metadata": {},
   "source": [
    "# Этап 3. Создаем таблицу с сессиями юзеров"
   ]
  },
  {
   "cell_type": "code",
   "execution_count": 56,
   "id": "bce4e600",
   "metadata": {},
   "outputs": [],
   "source": [
    "df = df.sort_values(['user_id', 'ts']) \n",
    "df['time_diff'] = df.groupby('user_id')['ts'].diff().fillna(pd.Timedelta(seconds=0))\n",
    "# Считаем разницу во времени для каждого пользователя, пропуски заполняем 0"
   ]
  },
  {
   "cell_type": "code",
   "execution_count": 57,
   "id": "12e95b6d",
   "metadata": {},
   "outputs": [
    {
     "data": {
      "text/html": [
       "<div>\n",
       "<style scoped>\n",
       "    .dataframe tbody tr th:only-of-type {\n",
       "        vertical-align: middle;\n",
       "    }\n",
       "\n",
       "    .dataframe tbody tr th {\n",
       "        vertical-align: top;\n",
       "    }\n",
       "\n",
       "    .dataframe thead th {\n",
       "        text-align: right;\n",
       "    }\n",
       "</style>\n",
       "<table border=\"1\" class=\"dataframe\">\n",
       "  <thead>\n",
       "    <tr style=\"text-align: right;\">\n",
       "      <th></th>\n",
       "      <th>user_id</th>\n",
       "      <th>ab_group</th>\n",
       "      <th>ts</th>\n",
       "      <th>pdate</th>\n",
       "      <th>time_diff</th>\n",
       "    </tr>\n",
       "  </thead>\n",
       "  <tbody>\n",
       "    <tr>\n",
       "      <th>22360</th>\n",
       "      <td>2JM4L+sRXYIWAFSC8XaTPg==</td>\n",
       "      <td>B</td>\n",
       "      <td>2023-05-01 08:17:45.766570</td>\n",
       "      <td>2023-05-01</td>\n",
       "      <td>0 days 00:00:00</td>\n",
       "    </tr>\n",
       "    <tr>\n",
       "      <th>22361</th>\n",
       "      <td>2JM4L+sRXYIWAFSC8XaTPg==</td>\n",
       "      <td>B</td>\n",
       "      <td>2023-05-01 08:18:23.403884</td>\n",
       "      <td>2023-05-01</td>\n",
       "      <td>0 days 00:00:37.637314</td>\n",
       "    </tr>\n",
       "    <tr>\n",
       "      <th>22362</th>\n",
       "      <td>2JM4L+sRXYIWAFSC8XaTPg==</td>\n",
       "      <td>B</td>\n",
       "      <td>2023-05-01 08:18:24.197308</td>\n",
       "      <td>2023-05-01</td>\n",
       "      <td>0 days 00:00:00.793424</td>\n",
       "    </tr>\n",
       "    <tr>\n",
       "      <th>22363</th>\n",
       "      <td>2JM4L+sRXYIWAFSC8XaTPg==</td>\n",
       "      <td>B</td>\n",
       "      <td>2023-05-01 08:18:26.551874</td>\n",
       "      <td>2023-05-01</td>\n",
       "      <td>0 days 00:00:02.354566</td>\n",
       "    </tr>\n",
       "    <tr>\n",
       "      <th>22364</th>\n",
       "      <td>2JM4L+sRXYIWAFSC8XaTPg==</td>\n",
       "      <td>B</td>\n",
       "      <td>2023-05-01 08:18:28.284787</td>\n",
       "      <td>2023-05-01</td>\n",
       "      <td>0 days 00:00:01.732913</td>\n",
       "    </tr>\n",
       "  </tbody>\n",
       "</table>\n",
       "</div>"
      ],
      "text/plain": [
       "                        user_id ab_group                         ts  \\\n",
       "22360  2JM4L+sRXYIWAFSC8XaTPg==        B 2023-05-01 08:17:45.766570   \n",
       "22361  2JM4L+sRXYIWAFSC8XaTPg==        B 2023-05-01 08:18:23.403884   \n",
       "22362  2JM4L+sRXYIWAFSC8XaTPg==        B 2023-05-01 08:18:24.197308   \n",
       "22363  2JM4L+sRXYIWAFSC8XaTPg==        B 2023-05-01 08:18:26.551874   \n",
       "22364  2JM4L+sRXYIWAFSC8XaTPg==        B 2023-05-01 08:18:28.284787   \n",
       "\n",
       "           pdate              time_diff  \n",
       "22360 2023-05-01        0 days 00:00:00  \n",
       "22361 2023-05-01 0 days 00:00:37.637314  \n",
       "22362 2023-05-01 0 days 00:00:00.793424  \n",
       "22363 2023-05-01 0 days 00:00:02.354566  \n",
       "22364 2023-05-01 0 days 00:00:01.732913  "
      ]
     },
     "execution_count": 57,
     "metadata": {},
     "output_type": "execute_result"
    }
   ],
   "source": [
    "df.head(5)"
   ]
  },
  {
   "cell_type": "code",
   "execution_count": 58,
   "id": "d2f90925",
   "metadata": {},
   "outputs": [],
   "source": [
    "session_threshold = pd.Timedelta(minutes=30) # Новая сессия начинается через 30 минут\n",
    "session_mask = ((df['time_diff'] > session_threshold) | (df['pdate'].diff().dt.days > 0)) # Проверяем, прошло бодьше 30 мин или \n",
    "# нет и произошло ли изменение даты\n",
    "df['session_id'] = session_mask.groupby(df['user_id']).cumsum() + 1  # Создаем колонку для нумерации сессий, для каждого\n",
    "# пользователя отсчет сессий начинается с 1"
   ]
  },
  {
   "cell_type": "code",
   "execution_count": 59,
   "id": "db05de57",
   "metadata": {},
   "outputs": [
    {
     "data": {
      "text/html": [
       "<div>\n",
       "<style scoped>\n",
       "    .dataframe tbody tr th:only-of-type {\n",
       "        vertical-align: middle;\n",
       "    }\n",
       "\n",
       "    .dataframe tbody tr th {\n",
       "        vertical-align: top;\n",
       "    }\n",
       "\n",
       "    .dataframe thead th {\n",
       "        text-align: right;\n",
       "    }\n",
       "</style>\n",
       "<table border=\"1\" class=\"dataframe\">\n",
       "  <thead>\n",
       "    <tr style=\"text-align: right;\">\n",
       "      <th></th>\n",
       "      <th>user_id</th>\n",
       "      <th>ab_group</th>\n",
       "      <th>ts</th>\n",
       "      <th>pdate</th>\n",
       "      <th>time_diff</th>\n",
       "      <th>session_id</th>\n",
       "    </tr>\n",
       "  </thead>\n",
       "  <tbody>\n",
       "    <tr>\n",
       "      <th>22360</th>\n",
       "      <td>2JM4L+sRXYIWAFSC8XaTPg==</td>\n",
       "      <td>B</td>\n",
       "      <td>2023-05-01 08:17:45.766570</td>\n",
       "      <td>2023-05-01</td>\n",
       "      <td>0 days 00:00:00</td>\n",
       "      <td>1</td>\n",
       "    </tr>\n",
       "    <tr>\n",
       "      <th>22361</th>\n",
       "      <td>2JM4L+sRXYIWAFSC8XaTPg==</td>\n",
       "      <td>B</td>\n",
       "      <td>2023-05-01 08:18:23.403884</td>\n",
       "      <td>2023-05-01</td>\n",
       "      <td>0 days 00:00:37.637314</td>\n",
       "      <td>1</td>\n",
       "    </tr>\n",
       "    <tr>\n",
       "      <th>22362</th>\n",
       "      <td>2JM4L+sRXYIWAFSC8XaTPg==</td>\n",
       "      <td>B</td>\n",
       "      <td>2023-05-01 08:18:24.197308</td>\n",
       "      <td>2023-05-01</td>\n",
       "      <td>0 days 00:00:00.793424</td>\n",
       "      <td>1</td>\n",
       "    </tr>\n",
       "    <tr>\n",
       "      <th>22363</th>\n",
       "      <td>2JM4L+sRXYIWAFSC8XaTPg==</td>\n",
       "      <td>B</td>\n",
       "      <td>2023-05-01 08:18:26.551874</td>\n",
       "      <td>2023-05-01</td>\n",
       "      <td>0 days 00:00:02.354566</td>\n",
       "      <td>1</td>\n",
       "    </tr>\n",
       "    <tr>\n",
       "      <th>22364</th>\n",
       "      <td>2JM4L+sRXYIWAFSC8XaTPg==</td>\n",
       "      <td>B</td>\n",
       "      <td>2023-05-01 08:18:28.284787</td>\n",
       "      <td>2023-05-01</td>\n",
       "      <td>0 days 00:00:01.732913</td>\n",
       "      <td>1</td>\n",
       "    </tr>\n",
       "    <tr>\n",
       "      <th>22365</th>\n",
       "      <td>2JM4L+sRXYIWAFSC8XaTPg==</td>\n",
       "      <td>B</td>\n",
       "      <td>2023-05-01 08:18:54.868559</td>\n",
       "      <td>2023-05-01</td>\n",
       "      <td>0 days 00:00:26.583772</td>\n",
       "      <td>1</td>\n",
       "    </tr>\n",
       "    <tr>\n",
       "      <th>22366</th>\n",
       "      <td>2JM4L+sRXYIWAFSC8XaTPg==</td>\n",
       "      <td>B</td>\n",
       "      <td>2023-05-01 08:23:20.092009</td>\n",
       "      <td>2023-05-01</td>\n",
       "      <td>0 days 00:04:25.223450</td>\n",
       "      <td>1</td>\n",
       "    </tr>\n",
       "    <tr>\n",
       "      <th>22367</th>\n",
       "      <td>2JM4L+sRXYIWAFSC8XaTPg==</td>\n",
       "      <td>B</td>\n",
       "      <td>2023-05-01 08:23:20.688954</td>\n",
       "      <td>2023-05-01</td>\n",
       "      <td>0 days 00:00:00.596945</td>\n",
       "      <td>1</td>\n",
       "    </tr>\n",
       "    <tr>\n",
       "      <th>22368</th>\n",
       "      <td>2JM4L+sRXYIWAFSC8XaTPg==</td>\n",
       "      <td>B</td>\n",
       "      <td>2023-05-01 08:23:21.359983</td>\n",
       "      <td>2023-05-01</td>\n",
       "      <td>0 days 00:00:00.671029</td>\n",
       "      <td>1</td>\n",
       "    </tr>\n",
       "    <tr>\n",
       "      <th>22369</th>\n",
       "      <td>2JM4L+sRXYIWAFSC8XaTPg==</td>\n",
       "      <td>B</td>\n",
       "      <td>2023-05-01 08:23:23.231156</td>\n",
       "      <td>2023-05-01</td>\n",
       "      <td>0 days 00:00:01.871173</td>\n",
       "      <td>1</td>\n",
       "    </tr>\n",
       "  </tbody>\n",
       "</table>\n",
       "</div>"
      ],
      "text/plain": [
       "                        user_id ab_group                         ts  \\\n",
       "22360  2JM4L+sRXYIWAFSC8XaTPg==        B 2023-05-01 08:17:45.766570   \n",
       "22361  2JM4L+sRXYIWAFSC8XaTPg==        B 2023-05-01 08:18:23.403884   \n",
       "22362  2JM4L+sRXYIWAFSC8XaTPg==        B 2023-05-01 08:18:24.197308   \n",
       "22363  2JM4L+sRXYIWAFSC8XaTPg==        B 2023-05-01 08:18:26.551874   \n",
       "22364  2JM4L+sRXYIWAFSC8XaTPg==        B 2023-05-01 08:18:28.284787   \n",
       "22365  2JM4L+sRXYIWAFSC8XaTPg==        B 2023-05-01 08:18:54.868559   \n",
       "22366  2JM4L+sRXYIWAFSC8XaTPg==        B 2023-05-01 08:23:20.092009   \n",
       "22367  2JM4L+sRXYIWAFSC8XaTPg==        B 2023-05-01 08:23:20.688954   \n",
       "22368  2JM4L+sRXYIWAFSC8XaTPg==        B 2023-05-01 08:23:21.359983   \n",
       "22369  2JM4L+sRXYIWAFSC8XaTPg==        B 2023-05-01 08:23:23.231156   \n",
       "\n",
       "           pdate              time_diff  session_id  \n",
       "22360 2023-05-01        0 days 00:00:00           1  \n",
       "22361 2023-05-01 0 days 00:00:37.637314           1  \n",
       "22362 2023-05-01 0 days 00:00:00.793424           1  \n",
       "22363 2023-05-01 0 days 00:00:02.354566           1  \n",
       "22364 2023-05-01 0 days 00:00:01.732913           1  \n",
       "22365 2023-05-01 0 days 00:00:26.583772           1  \n",
       "22366 2023-05-01 0 days 00:04:25.223450           1  \n",
       "22367 2023-05-01 0 days 00:00:00.596945           1  \n",
       "22368 2023-05-01 0 days 00:00:00.671029           1  \n",
       "22369 2023-05-01 0 days 00:00:01.871173           1  "
      ]
     },
     "execution_count": 59,
     "metadata": {},
     "output_type": "execute_result"
    }
   ],
   "source": [
    "df.head(10)"
   ]
  },
  {
   "cell_type": "code",
   "execution_count": 60,
   "id": "ba51ac1c",
   "metadata": {},
   "outputs": [],
   "source": [
    "# Создаем новую таблицу \n",
    "sessions_df = df.groupby(['user_id', 'session_id']).agg(\n",
    "    ab_group=('ab_group', 'first'), # Группа теста А/В\n",
    "    start_ts=('ts', 'min'), # Начало сессии\n",
    "    end_ts=('ts', 'max'), # Конец сессии\n",
    "    date=('pdate', 'first') # Дата\n",
    ").reset_index()"
   ]
  },
  {
   "cell_type": "code",
   "execution_count": 61,
   "id": "0423575b",
   "metadata": {},
   "outputs": [
    {
     "data": {
      "text/html": [
       "<div>\n",
       "<style scoped>\n",
       "    .dataframe tbody tr th:only-of-type {\n",
       "        vertical-align: middle;\n",
       "    }\n",
       "\n",
       "    .dataframe tbody tr th {\n",
       "        vertical-align: top;\n",
       "    }\n",
       "\n",
       "    .dataframe thead th {\n",
       "        text-align: right;\n",
       "    }\n",
       "</style>\n",
       "<table border=\"1\" class=\"dataframe\">\n",
       "  <thead>\n",
       "    <tr style=\"text-align: right;\">\n",
       "      <th></th>\n",
       "      <th>user_id</th>\n",
       "      <th>session_id</th>\n",
       "      <th>ab_group</th>\n",
       "      <th>start_ts</th>\n",
       "      <th>end_ts</th>\n",
       "      <th>date</th>\n",
       "    </tr>\n",
       "  </thead>\n",
       "  <tbody>\n",
       "    <tr>\n",
       "      <th>0</th>\n",
       "      <td>2JM4L+sRXYIWAFSC8XaTPg==</td>\n",
       "      <td>1</td>\n",
       "      <td>B</td>\n",
       "      <td>2023-05-01 08:17:45.766570</td>\n",
       "      <td>2023-05-01 08:57:37.363424</td>\n",
       "      <td>2023-05-01</td>\n",
       "    </tr>\n",
       "    <tr>\n",
       "      <th>1</th>\n",
       "      <td>2OgK/ukRgvkWAOaa8XaTPg==</td>\n",
       "      <td>2</td>\n",
       "      <td>A</td>\n",
       "      <td>2023-05-02 12:24:33.553327</td>\n",
       "      <td>2023-05-02 12:37:57.761142</td>\n",
       "      <td>2023-05-02</td>\n",
       "    </tr>\n",
       "    <tr>\n",
       "      <th>2</th>\n",
       "      <td>3E69ZO0RJrEWACi28XaTPg==</td>\n",
       "      <td>1</td>\n",
       "      <td>A</td>\n",
       "      <td>2023-05-01 18:58:45.338597</td>\n",
       "      <td>2023-05-01 19:04:19.203838</td>\n",
       "      <td>2023-05-01</td>\n",
       "    </tr>\n",
       "    <tr>\n",
       "      <th>3</th>\n",
       "      <td>3E69ZO0RJrEWACi28XaTPg==</td>\n",
       "      <td>2</td>\n",
       "      <td>A</td>\n",
       "      <td>2023-05-04 10:01:39.700496</td>\n",
       "      <td>2023-05-04 10:07:39.858666</td>\n",
       "      <td>2023-05-04</td>\n",
       "    </tr>\n",
       "    <tr>\n",
       "      <th>4</th>\n",
       "      <td>3GsYmewRRswWABqG8XaTPg==</td>\n",
       "      <td>1</td>\n",
       "      <td>B</td>\n",
       "      <td>2023-05-03 05:00:41.797222</td>\n",
       "      <td>2023-05-03 05:18:12.137282</td>\n",
       "      <td>2023-05-03</td>\n",
       "    </tr>\n",
       "    <tr>\n",
       "      <th>...</th>\n",
       "      <td>...</td>\n",
       "      <td>...</td>\n",
       "      <td>...</td>\n",
       "      <td>...</td>\n",
       "      <td>...</td>\n",
       "      <td>...</td>\n",
       "    </tr>\n",
       "    <tr>\n",
       "      <th>5919</th>\n",
       "      <td>xppk/u0RbGIWAKC+6VfbPg==</td>\n",
       "      <td>3</td>\n",
       "      <td>A</td>\n",
       "      <td>2023-05-03 05:47:34.156020</td>\n",
       "      <td>2023-05-03 05:54:55.011521</td>\n",
       "      <td>2023-05-03</td>\n",
       "    </tr>\n",
       "    <tr>\n",
       "      <th>5920</th>\n",
       "      <td>xppk/u0RbGIWAKC+6VfbPg==</td>\n",
       "      <td>4</td>\n",
       "      <td>A</td>\n",
       "      <td>2023-05-05 07:25:25.292417</td>\n",
       "      <td>2023-05-05 07:54:33.997134</td>\n",
       "      <td>2023-05-05</td>\n",
       "    </tr>\n",
       "    <tr>\n",
       "      <th>5921</th>\n",
       "      <td>xppk/u0RbGIWAKC+6VfbPg==</td>\n",
       "      <td>5</td>\n",
       "      <td>A</td>\n",
       "      <td>2023-05-06 10:45:48.295508</td>\n",
       "      <td>2023-05-06 10:53:47.921312</td>\n",
       "      <td>2023-05-06</td>\n",
       "    </tr>\n",
       "    <tr>\n",
       "      <th>5922</th>\n",
       "      <td>xppk/u0RbGIWAKC+6VfbPg==</td>\n",
       "      <td>6</td>\n",
       "      <td>A</td>\n",
       "      <td>2023-05-07 15:53:11.323273</td>\n",
       "      <td>2023-05-07 16:01:30.187277</td>\n",
       "      <td>2023-05-07</td>\n",
       "    </tr>\n",
       "    <tr>\n",
       "      <th>5923</th>\n",
       "      <td>xppk/u0RbGIWAKC+6VfbPg==</td>\n",
       "      <td>7</td>\n",
       "      <td>A</td>\n",
       "      <td>2023-05-08 08:44:53.409758</td>\n",
       "      <td>2023-05-08 08:51:30.984335</td>\n",
       "      <td>2023-05-08</td>\n",
       "    </tr>\n",
       "  </tbody>\n",
       "</table>\n",
       "<p>5924 rows × 6 columns</p>\n",
       "</div>"
      ],
      "text/plain": [
       "                       user_id  session_id ab_group  \\\n",
       "0     2JM4L+sRXYIWAFSC8XaTPg==           1        B   \n",
       "1     2OgK/ukRgvkWAOaa8XaTPg==           2        A   \n",
       "2     3E69ZO0RJrEWACi28XaTPg==           1        A   \n",
       "3     3E69ZO0RJrEWACi28XaTPg==           2        A   \n",
       "4     3GsYmewRRswWABqG8XaTPg==           1        B   \n",
       "...                        ...         ...      ...   \n",
       "5919  xppk/u0RbGIWAKC+6VfbPg==           3        A   \n",
       "5920  xppk/u0RbGIWAKC+6VfbPg==           4        A   \n",
       "5921  xppk/u0RbGIWAKC+6VfbPg==           5        A   \n",
       "5922  xppk/u0RbGIWAKC+6VfbPg==           6        A   \n",
       "5923  xppk/u0RbGIWAKC+6VfbPg==           7        A   \n",
       "\n",
       "                       start_ts                     end_ts       date  \n",
       "0    2023-05-01 08:17:45.766570 2023-05-01 08:57:37.363424 2023-05-01  \n",
       "1    2023-05-02 12:24:33.553327 2023-05-02 12:37:57.761142 2023-05-02  \n",
       "2    2023-05-01 18:58:45.338597 2023-05-01 19:04:19.203838 2023-05-01  \n",
       "3    2023-05-04 10:01:39.700496 2023-05-04 10:07:39.858666 2023-05-04  \n",
       "4    2023-05-03 05:00:41.797222 2023-05-03 05:18:12.137282 2023-05-03  \n",
       "...                         ...                        ...        ...  \n",
       "5919 2023-05-03 05:47:34.156020 2023-05-03 05:54:55.011521 2023-05-03  \n",
       "5920 2023-05-05 07:25:25.292417 2023-05-05 07:54:33.997134 2023-05-05  \n",
       "5921 2023-05-06 10:45:48.295508 2023-05-06 10:53:47.921312 2023-05-06  \n",
       "5922 2023-05-07 15:53:11.323273 2023-05-07 16:01:30.187277 2023-05-07  \n",
       "5923 2023-05-08 08:44:53.409758 2023-05-08 08:51:30.984335 2023-05-08  \n",
       "\n",
       "[5924 rows x 6 columns]"
      ]
     },
     "execution_count": 61,
     "metadata": {},
     "output_type": "execute_result"
    }
   ],
   "source": [
    "sessions_df.sort_values('user_id')"
   ]
  },
  {
   "cell_type": "markdown",
   "id": "c6b88e1f",
   "metadata": {},
   "source": [
    "### Участники теста"
   ]
  },
  {
   "cell_type": "code",
   "execution_count": 62,
   "id": "83b54244",
   "metadata": {},
   "outputs": [
    {
     "data": {
      "text/plain": [
       "ab_group\n",
       "A    2947\n",
       "B    2977\n",
       "Name: session_id, dtype: int64"
      ]
     },
     "execution_count": 62,
     "metadata": {},
     "output_type": "execute_result"
    }
   ],
   "source": [
    "sessions_df.groupby('ab_group')['session_id'].count()"
   ]
  },
  {
   "cell_type": "markdown",
   "id": "4ea9b646",
   "metadata": {},
   "source": [
    "### Пользователи, которые перешли во вторую сессию"
   ]
  },
  {
   "cell_type": "code",
   "execution_count": 63,
   "id": "3511fe4b",
   "metadata": {},
   "outputs": [
    {
     "data": {
      "text/plain": [
       "ab_group\n",
       "A    925\n",
       "B    954\n",
       "Name: session_id, dtype: int64"
      ]
     },
     "execution_count": 63,
     "metadata": {},
     "output_type": "execute_result"
    }
   ],
   "source": [
    "sessions_df.groupby('ab_group')['session_id'].apply(lambda x: (x > 1).sum())"
   ]
  },
  {
   "cell_type": "markdown",
   "id": "af6d7cbb",
   "metadata": {},
   "source": [
    "### Конверсия для группы A = 925/2947 = 31,4%\n",
    "### Конверсия для группы В = 954/2977 = 32%"
   ]
  },
  {
   "cell_type": "markdown",
   "id": "8a9242a4",
   "metadata": {},
   "source": [
    "### Пользователи, у которых была только одна сессия"
   ]
  },
  {
   "cell_type": "code",
   "execution_count": 64,
   "id": "fc4fec48",
   "metadata": {},
   "outputs": [
    {
     "data": {
      "text/plain": [
       "ab_group\n",
       "A    2022\n",
       "B    2023\n",
       "Name: session_id, dtype: int64"
      ]
     },
     "execution_count": 64,
     "metadata": {},
     "output_type": "execute_result"
    }
   ],
   "source": [
    "sessions_df.groupby('ab_group')['session_id'].apply(lambda x: (x <= 1).sum())"
   ]
  },
  {
   "cell_type": "markdown",
   "id": "da8082ed",
   "metadata": {},
   "source": [
    "# Вывод"
   ]
  },
  {
   "cell_type": "markdown",
   "id": "2384f253",
   "metadata": {},
   "source": [
    "### Группа B имеет чуть более высокую конверсию во вторую сессию по сравнению с группой A. Но для более надежных выводов об успешности A/B-теста  важно учитывать статистическую значимость результатов и проводить статистический анализ, чтобы удостовериться, что различия между группами статистически значимы."
   ]
  }
 ],
 "metadata": {
  "kernelspec": {
   "display_name": "Python 3 (ipykernel)",
   "language": "python",
   "name": "python3"
  },
  "language_info": {
   "codemirror_mode": {
    "name": "ipython",
    "version": 3
   },
   "file_extension": ".py",
   "mimetype": "text/x-python",
   "name": "python",
   "nbconvert_exporter": "python",
   "pygments_lexer": "ipython3",
   "version": "3.11.5"
  },
  "toc": {
   "base_numbering": 1,
   "nav_menu": {},
   "number_sections": true,
   "sideBar": true,
   "skip_h1_title": false,
   "title_cell": "Table of Contents",
   "title_sidebar": "Contents",
   "toc_cell": false,
   "toc_position": {},
   "toc_section_display": true,
   "toc_window_display": false
  },
  "varInspector": {
   "cols": {
    "lenName": 16,
    "lenType": 16,
    "lenVar": 40
   },
   "kernels_config": {
    "python": {
     "delete_cmd_postfix": "",
     "delete_cmd_prefix": "del ",
     "library": "var_list.py",
     "varRefreshCmd": "print(var_dic_list())"
    },
    "r": {
     "delete_cmd_postfix": ") ",
     "delete_cmd_prefix": "rm(",
     "library": "var_list.r",
     "varRefreshCmd": "cat(var_dic_list()) "
    }
   },
   "types_to_exclude": [
    "module",
    "function",
    "builtin_function_or_method",
    "instance",
    "_Feature"
   ],
   "window_display": false
  }
 },
 "nbformat": 4,
 "nbformat_minor": 5
}
